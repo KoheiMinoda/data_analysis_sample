{
  "nbformat": 4,
  "nbformat_minor": 0,
  "metadata": {
    "colab": {
      "provenance": [],
      "include_colab_link": true
    },
    "kernelspec": {
      "name": "python3",
      "display_name": "Python 3"
    },
    "language_info": {
      "name": "python"
    }
  },
  "cells": [
    {
      "cell_type": "markdown",
      "metadata": {
        "id": "view-in-github",
        "colab_type": "text"
      },
      "source": [
        "<a href=\"https://colab.research.google.com/github/KoheiMinoda/data_analysis_sample/blob/main/PuLP_introduction.ipynb\" target=\"_parent\"><img src=\"https://colab.research.google.com/assets/colab-badge.svg\" alt=\"Open In Colab\"/></a>"
      ]
    },
    {
      "cell_type": "markdown",
      "source": [
        "<script type=\"text/javascript\" async src=\"https://cdnjs.cloudflare.com/ajax/libs/mathjax/2.7.7/MathJax.js?config=TeX-MML-AM_CHTML\">\n",
        "</script>\n",
        "<script type=\"text/x-mathjax-config\">\n",
        " MathJax.Hub.Config({\n",
        " tex2jax: {\n",
        " inlineMath: [['$', '$'] ],\n",
        " displayMath: [ ['$$','$$'], [\"\\\\[\",\"\\\\]\"] ]\n",
        " }\n",
        " });\n",
        "</script>\n",
        "\n",
        "# **はじめに**\n",
        "----\n",
        "\n",
        "以下のように表現される線形計画問題を Python で解くための PuLP パッケージの使い方を解説します．\n",
        "\n",
        "\n",
        "\\begin{align*}\n",
        "\\begin{array}{| l l}\n",
        "  \\mbox{maximize} & 3x_{1}+4x_{2}+2x_{3}\\\\\n",
        "  \\mbox{subject to} & 2x_{1} \\le 4,\\\\\n",
        "  & x_{1}+2x_{3}  \\le 8,\\\\\n",
        "  & 3x_{2}+x_{3} \\le 6,\\\\\n",
        "  & x_{1} \\ge 0, x_{2}\\ge0, x_{3}\\ge0.\n",
        "\\end{array}\n",
        "\\end{align*}"
      ],
      "metadata": {
        "id": "OGvuEFs5Gzbe"
      }
    },
    {
      "cell_type": "code",
      "source": [],
      "metadata": {
        "id": "Kq8ZaHrg5A94"
      },
      "execution_count": null,
      "outputs": []
    },
    {
      "cell_type": "markdown",
      "source": [
        "# **PuLP のインストール**\n",
        "---\n",
        "\n",
        "まず PuLP がインストールされているかを確認します．\n",
        "以下のようにpipのlistコマンドを使うと現在インストール済みの Pythonライブラリの一覧が表示されます．\n",
        "\n",
        "```python\n",
        "!pip list\n",
        "```\n",
        "\n",
        "一覧にPuLPが無ければ，pipのinstallコマンドでインストールします．\n",
        "```python\n",
        "!pip install pulp\n",
        "```"
      ],
      "metadata": {
        "id": "bEJjtYIdWT8C"
      }
    },
    {
      "cell_type": "code",
      "source": [
        "!pip list"
      ],
      "metadata": {
        "id": "XyW4bdTsReaD"
      },
      "execution_count": null,
      "outputs": []
    },
    {
      "cell_type": "code",
      "source": [
        "!pip install pulp"
      ],
      "metadata": {
        "id": "3pS24IhzRukN"
      },
      "execution_count": null,
      "outputs": []
    },
    {
      "cell_type": "markdown",
      "source": [
        "<script type=\"text/javascript\" async src=\"https://cdnjs.cloudflare.com/ajax/libs/mathjax/2.7.7/MathJax.js?config=TeX-MML-AM_CHTML\">\n",
        "</script>\n",
        "<script type=\"text/x-mathjax-config\">\n",
        " MathJax.Hub.Config({\n",
        " tex2jax: {\n",
        " inlineMath: [['$', '$'] ],\n",
        " displayMath: [ ['$$','$$'], [\"\\\\[\",\"\\\\]\"] ]\n",
        " }\n",
        " });\n",
        "</script>\n",
        "\n",
        "\n",
        "# **PuLPの使い方**\n",
        "---\n",
        "\n",
        "\n",
        "以下の手順で，数理最適化問題をPuLPでモデリングし解きます．\n",
        "\n",
        "1. PuLPパッケージのインポート\n",
        "```python\n",
        "from pulp import *\n",
        "```\n",
        "\n",
        "2. 最適化モデルの作成\n",
        "```python\n",
        "#最大化問題の場合：\n",
        "p = LpProblem(sense=LpMaximize)\n",
        "#最小化問題の場合：\n",
        "p = LpProblem(sense=LpMinimize)\n",
        "```\n",
        "- pという変数にモデルオブジェクトを代入しています．\n",
        "- pは好きな名前にして良いです．\n",
        "\n",
        "\n",
        "3. 変数の作成\n",
        "```python\n",
        "x = LpVariable(\"x\") #自由変数\n",
        "y = LpVariable(\"y\", lowBound=0) #非負変数\n",
        "z = LpVariable(\"z\", lowBound=0, upBound=10) #0<=z<=10を満たす変数\n",
        "```\n",
        "- \"変数名\"は自由に決めてよいです．ただし，全ての変数は異なる変数名にする必要があります．\n",
        "- lowBoundで変数の下限を指定．デフォルトはNoneなので，指定しないと下限なし（-無限大）になります．\n",
        "- upBoundで変数の上限を指定．デフォルトはNoneなので，指定しないと上限なし（+無限大）になります．\n",
        "\n",
        "\n",
        "\n",
        "4. 制約条件の追加\n",
        "```python\n",
        "p += ( x+y+2*z <= 2, \"制約条件名\") #不等式制約\n",
        "p += ( x+y+2*z == 2, \"制約条件名\") #等式制約\n",
        "```\n",
        "\n",
        "5. 目的関数の追加\n",
        "```python\n",
        "p += (x+y+2*z)\n",
        "```\n",
        "\n",
        "6. 最適化実行\n",
        "```python\n",
        "p.solve()\n",
        "```\n",
        "\n",
        "7. ステータスの確認\n",
        "```python\n",
        "print(LpStatus[p.status])\n",
        "```\n",
        "- p.statusで最適化実行後の問題の状態を数値で取得します．\n",
        "- 文字列で状態を確認する場合は，m.statusをLpStatusの中に入れます．\n",
        "- 対応関係は，1:Optimal（最適解が得られた）,0:Not Soved(制限時間内に最適解が得られなかった), -1:Infeasible(実行不可能), -2:Unbounded(非有界), -3: Undefined(何らかの理由で解けなかった)\n",
        "\n",
        "8. 最適解や最適値の確認\n",
        "```python\n",
        "print(value(x)) #最適解における変数xの値\n",
        "print(value(p.objective)) #最適値\n",
        "```\n",
        "- 値はvalue(オブジェクト)で確認できます．\n",
        "\n",
        "\n"
      ],
      "metadata": {
        "id": "XNANcZ1fWaUv"
      }
    },
    {
      "cell_type": "markdown",
      "source": [
        "# **実行例**\n",
        "---\n",
        "\n",
        "冒頭の例題を実際にPuLPでモデリングして解いてみます．"
      ],
      "metadata": {
        "id": "MgE8e8sVWuHn"
      }
    },
    {
      "cell_type": "code",
      "source": [
        "from pulp import *\n",
        "\n",
        "# モデルの作成\n",
        "model = LpProblem(sense=LpMaximize)\n",
        "\n",
        "# 変数の作成\n",
        "x1 = LpVariable(\"red_wine\", lowBound=0)\n",
        "x2 = LpVariable(\"white_wine\", lowBound=0)\n",
        "x3 = LpVariable(\"rose_wine\", lowBound=0)\n",
        "\n",
        "# 制約条件の追加\n",
        "model += (2*x1<=4, \"supply_pinot\")\n",
        "model += (x1+2*x3<=8, \"supply_gamay\")\n",
        "model += (3*x2+x3<=6, \"supply_chardon\")\n",
        "\n",
        "# 目的関数の追加\n",
        "model += (3*x1+4*x2+2*x3)\n",
        "\n",
        "# モデルの確認\n",
        "print(\"*\"*10)\n",
        "print(\"Our Problem:\")\n",
        "print(model)\n",
        "\n",
        "#　最適化実行\n",
        "model.solve()\n",
        "\n",
        "#ステータスの確認と最適化の表示\n",
        "result = LpStatus[model.status]\n",
        "\n",
        "print(\"*\"*10)\n",
        "print(\"Result:\")\n",
        "if result==\"Optimal\":\n",
        "    print(\"x1 = {}\".format(value(x1)))\n",
        "    print(\"x2 = {}\".format(value(x2)))\n",
        "    print(\"x3 = {}\".format(value(x3)))\n",
        "\n",
        "    print(\"Optimal Value = {}\".format(value(model.objective)))\n",
        "else:\n",
        "    print(\"Not solved\")\n",
        "    print(\"status = {}\".format(result))\n",
        "print(\"*\"*10)"
      ],
      "metadata": {
        "id": "IgtYkZ2RQIAa"
      },
      "execution_count": null,
      "outputs": []
    }
  ]
}